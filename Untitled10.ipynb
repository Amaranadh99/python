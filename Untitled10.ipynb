{
 "cells": [
  {
   "cell_type": "markdown",
   "id": "4c294509",
   "metadata": {},
   "source": [
    "# (1) What makes NumPy.shape() different from NumPy.size()?"
   ]
  },
  {
   "cell_type": "markdown",
   "id": "d7610f75",
   "metadata": {},
   "source": [
    "Numpy.shape() :-\n",
    "\n",
    "*NumPy arrays have a function called shape that always returns a tuple with each index having the number of adjacent elements.\n",
    "*The Numpy array shape property is to find the shape of an array.\n",
    "*In this method we can easily use the numpy.shape() function.\n",
    "\n",
    "Syntax of numpy.shape() :-\n",
    "\n",
    "numpy.shape\n",
    "           (\n",
    "            arr\n",
    "           )\n",
    "           \n",
    "NumPy.size() :-\n",
    "\n",
    "The NumPy size() function has two arguments. First is an array required an argument need to give array or array name. Second is an axis default an argument. The axis contains none value, according to the requirement you can change it.\n",
    "The np.size() function count items from a given array and give output in the form of a number as size. \n",
    "\n",
    "Syntax: np.size(array, axis=None)\n"
   ]
  },
  {
   "cell_type": "markdown",
   "id": "d8519871",
   "metadata": {},
   "source": [
    "# (2) In NumPy, describe the idea of broadcasting"
   ]
  },
  {
   "cell_type": "markdown",
   "id": "a4fe9b09",
   "metadata": {},
   "source": [
    "The term broadcasting refers to the ability of NumPy to treat arrays of different shapes during arithmetic operations. Arithmetic operations on arrays are usually done on corresponding elements. If two arrays are of exactly the same shape, then these operations are smoothly performed.\n"
   ]
  },
  {
   "cell_type": "code",
   "execution_count": 6,
   "id": "f7aef5ab",
   "metadata": {},
   "outputs": [
    {
     "name": "stdout",
     "output_type": "stream",
     "text": [
      "[ 10  40  90 160]\n"
     ]
    }
   ],
   "source": [
    "import numpy as np \n",
    "\n",
    "a = np.array([1,2,3,4]) \n",
    "b = np.array([10,20,30,40]) \n",
    "c = a * b \n",
    "print(c)"
   ]
  },
  {
   "cell_type": "markdown",
   "id": "25f49be3",
   "metadata": {},
   "source": [
    "# (3) What makes Python better than other libraries for numerical computation? "
   ]
  },
  {
   "cell_type": "markdown",
   "id": "0dcd364f",
   "metadata": {},
   "source": [
    "Python is a high-level scripting language. It is easy to learn and powerful than other languages because of its dynamic nature and simple syntax which allow small lines of code. \n",
    "Included indentation and object-oriented functional programming make it simple. Such advantages of Python makes it different from other languages and that's why Python is preferred for development in companies mostly.\n",
    "In industries, machine learning using python has become popular. This is because it has standard libraries which are used for scientific and numerical calculations. \n",
    "Also, it can be operated on Linux, Windows, Mac OS and UNIX. Students who want to make future in Python are joining online video training courses and python programming tutorial."
   ]
  },
  {
   "cell_type": "markdown",
   "id": "f3ee4040",
   "metadata": {},
   "source": [
    "# (4)How does NumPy deal with files?"
   ]
  },
  {
   "cell_type": "markdown",
   "id": "61d470d9",
   "metadata": {},
   "source": [
    "Using NumPy To Read In Files It’s possible to use NumPy to directly read csv or other files into arrays. We can do this using the numpy.genfromtxt function. We can use it to read in our initial data on red wines."
   ]
  },
  {
   "cell_type": "markdown",
   "id": "63379828",
   "metadata": {},
   "source": [
    "# (5)Mention the importance of NumPy.empty()."
   ]
  },
  {
   "cell_type": "markdown",
   "id": "40b5aa1f",
   "metadata": {},
   "source": [
    "The main use of NumPy empty is that it enables you to quickly create an array with a specific size and shape. So if you need a “holding container” for some future values, you can use the NumPy empty function to create it. In this sense, it’s very similar to the NumPy ones function and the NumPy zeros function."
   ]
  }
 ],
 "metadata": {
  "kernelspec": {
   "display_name": "Python 3 (ipykernel)",
   "language": "python",
   "name": "python3"
  },
  "language_info": {
   "codemirror_mode": {
    "name": "ipython",
    "version": 3
   },
   "file_extension": ".py",
   "mimetype": "text/x-python",
   "name": "python",
   "nbconvert_exporter": "python",
   "pygments_lexer": "ipython3",
   "version": "3.9.7"
  }
 },
 "nbformat": 4,
 "nbformat_minor": 5
}
